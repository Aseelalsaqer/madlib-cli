{
 "cells": [
  {
   "cell_type": "code",
   "execution_count": 29,
   "metadata": {},
   "outputs": [
    {
     "name": "stdout",
     "output_type": "stream",
     "text": [
      "Make Me A Video Game!\n",
      "\n",
      "I the {Adjective} and {Adjective} {A_First_Name} h\n"
     ]
    },
    {
     "data": {
      "text/plain": [
       "'Make Me A Video Game!\\n\\nI the hi and hi hi h'"
      ]
     },
     "execution_count": 29,
     "metadata": {},
     "output_type": "execute_result"
    }
   ],
   "source": [
    "with  open('assets/dark_and_stormy_night_template.txt') as file:\n",
    "    contents = file.read()\n",
    "print(contents[0:73])\n",
    "def read_template():\n",
    "    Adjective1 = input(\"write anything\")\n",
    "    Adjective2 = input(\">\")\n",
    "    Noun = input(\">\")\n",
    "    \n",
    "    return (contents[0:73].format(Adjective=Adjective1 ,Adjective3=Adjective2, A_First_Name=Noun))\n",
    "    \n",
    "read_template()\n"
   ]
  }
 ],
 "metadata": {
  "interpreter": {
   "hash": "a6d856d31239f299910b0710af45b878dd7714269c690c76a1e1c6563327d2d8"
  },
  "kernelspec": {
   "display_name": "Python 3.9.5 64-bit ('.venv': poetry)",
   "name": "python3"
  },
  "language_info": {
   "codemirror_mode": {
    "name": "ipython",
    "version": 3
   },
   "file_extension": ".py",
   "mimetype": "text/x-python",
   "name": "python",
   "nbconvert_exporter": "python",
   "pygments_lexer": "ipython3",
   "version": "3.9.5"
  },
  "orig_nbformat": 4
 },
 "nbformat": 4,
 "nbformat_minor": 2
}
